{
  "nbformat": 4,
  "nbformat_minor": 0,
  "metadata": {
    "colab": {
      "name": "Project Code.ipynb",
      "provenance": [],
      "collapsed_sections": [],
      "toc_visible": true
    },
    "kernelspec": {
      "name": "python3",
      "display_name": "Python 3"
    }
  },
  "cells": [
    {
      "cell_type": "markdown",
      "metadata": {
        "id": "n0liSaNybfvA",
        "colab_type": "text"
      },
      "source": [
        "#1. Indexing"
      ]
    },
    {
      "cell_type": "code",
      "metadata": {
        "id": "xe1zdZDLbbJf",
        "colab_type": "code",
        "colab": {
          "base_uri": "https://localhost:8080/",
          "height": 1000
        },
        "outputId": "b58a49f7-15f4-457a-9bcf-610f21195b7e"
      },
      "source": [
        "!pip install --upgrade git+https://github.com/terrier-org/pyterrier.git#egg=python-terrier"
      ],
      "execution_count": null,
      "outputs": [
        {
          "output_type": "stream",
          "text": [
            "Collecting python-terrier\n",
            "  Cloning https://github.com/terrier-org/pyterrier.git to /tmp/pip-install-15kj1zos/python-terrier\n",
            "  Running command git clone -q https://github.com/terrier-org/pyterrier.git /tmp/pip-install-15kj1zos/python-terrier\n",
            "Requirement already satisfied, skipping upgrade: numpy in /usr/local/lib/python3.6/dist-packages (from python-terrier) (1.18.5)\n",
            "Requirement already satisfied, skipping upgrade: pandas in /usr/local/lib/python3.6/dist-packages (from python-terrier) (1.0.5)\n",
            "Collecting wget\n",
            "  Downloading https://files.pythonhosted.org/packages/47/6a/62e288da7bcda82b935ff0c6cfe542970f04e29c756b0e147251b2fb251f/wget-3.2.zip\n",
            "Collecting pytrec_eval\n",
            "  Downloading https://files.pythonhosted.org/packages/36/0a/5809ba805e62c98f81e19d6007132712945c78e7612c11f61bac76a25ba3/pytrec_eval-0.4.tar.gz\n",
            "Requirement already satisfied, skipping upgrade: tqdm in /usr/local/lib/python3.6/dist-packages (from python-terrier) (4.41.1)\n",
            "Collecting pyjnius~=1.3.0\n",
            "\u001b[?25l  Downloading https://files.pythonhosted.org/packages/d8/50/098cb5fb76fb7c7d99d403226a2a63dcbfb5c129b71b7d0f5200b05de1f0/pyjnius-1.3.0-cp36-cp36m-manylinux2010_x86_64.whl (1.1MB)\n",
            "\u001b[K     |████████████████████████████████| 1.1MB 4.1MB/s \n",
            "\u001b[?25hCollecting matchpy\n",
            "\u001b[?25l  Downloading https://files.pythonhosted.org/packages/47/95/d265b944ce391bb2fa9982d7506bbb197bb55c5088ea74448a5ffcaeefab/matchpy-0.5.1-py3-none-any.whl (67kB)\n",
            "\u001b[K     |████████████████████████████████| 71kB 7.7MB/s \n",
            "\u001b[?25hRequirement already satisfied, skipping upgrade: sklearn in /usr/local/lib/python3.6/dist-packages (from python-terrier) (0.0)\n",
            "Collecting deprecation\n",
            "  Downloading https://files.pythonhosted.org/packages/02/c3/253a89ee03fc9b9682f1541728eb66db7db22148cd94f89ab22528cd1e1b/deprecation-2.1.0-py2.py3-none-any.whl\n",
            "Collecting chest\n",
            "  Downloading https://files.pythonhosted.org/packages/18/66/b883b9a26cd2f777dd04b7eedc842d31ea1567b7709b049d46eca418501e/chest-0.2.3.tar.gz\n",
            "Requirement already satisfied, skipping upgrade: scipy in /usr/local/lib/python3.6/dist-packages (from python-terrier) (1.4.1)\n",
            "Requirement already satisfied, skipping upgrade: requests in /usr/local/lib/python3.6/dist-packages (from python-terrier) (2.23.0)\n",
            "Requirement already satisfied, skipping upgrade: python-dateutil>=2.6.1 in /usr/local/lib/python3.6/dist-packages (from pandas->python-terrier) (2.8.1)\n",
            "Requirement already satisfied, skipping upgrade: pytz>=2017.2 in /usr/local/lib/python3.6/dist-packages (from pandas->python-terrier) (2018.9)\n",
            "Requirement already satisfied, skipping upgrade: cython in /usr/local/lib/python3.6/dist-packages (from pyjnius~=1.3.0->python-terrier) (0.29.21)\n",
            "Requirement already satisfied, skipping upgrade: six>=1.7.0 in /usr/local/lib/python3.6/dist-packages (from pyjnius~=1.3.0->python-terrier) (1.12.0)\n",
            "Collecting multiset<3.0,>=2.0\n",
            "  Downloading https://files.pythonhosted.org/packages/a8/12/813a649f5bc9801865dc6cda95b8f169f784d996322db192907ebe399064/multiset-2.1.1-py2.py3-none-any.whl\n",
            "Collecting hopcroftkarp<2.0,>=1.2\n",
            "  Downloading https://files.pythonhosted.org/packages/6b/56/7b03eba3c43008c490c9d52e69ea5334b65955f66836eb4f1962f3b0d421/hopcroftkarp-1.2.5.tar.gz\n",
            "Requirement already satisfied, skipping upgrade: scikit-learn in /usr/local/lib/python3.6/dist-packages (from sklearn->python-terrier) (0.22.2.post1)\n",
            "Requirement already satisfied, skipping upgrade: packaging in /usr/local/lib/python3.6/dist-packages (from deprecation->python-terrier) (20.4)\n",
            "Requirement already satisfied, skipping upgrade: heapdict in /usr/local/lib/python3.6/dist-packages (from chest->python-terrier) (1.0.1)\n",
            "Requirement already satisfied, skipping upgrade: urllib3!=1.25.0,!=1.25.1,<1.26,>=1.21.1 in /usr/local/lib/python3.6/dist-packages (from requests->python-terrier) (1.24.3)\n",
            "Requirement already satisfied, skipping upgrade: chardet<4,>=3.0.2 in /usr/local/lib/python3.6/dist-packages (from requests->python-terrier) (3.0.4)\n",
            "Requirement already satisfied, skipping upgrade: certifi>=2017.4.17 in /usr/local/lib/python3.6/dist-packages (from requests->python-terrier) (2020.6.20)\n",
            "Requirement already satisfied, skipping upgrade: idna<3,>=2.5 in /usr/local/lib/python3.6/dist-packages (from requests->python-terrier) (2.10)\n",
            "Requirement already satisfied, skipping upgrade: joblib>=0.11 in /usr/local/lib/python3.6/dist-packages (from scikit-learn->sklearn->python-terrier) (0.16.0)\n",
            "Requirement already satisfied, skipping upgrade: pyparsing>=2.0.2 in /usr/local/lib/python3.6/dist-packages (from packaging->deprecation->python-terrier) (2.4.7)\n",
            "Building wheels for collected packages: python-terrier, wget, pytrec-eval, chest, hopcroftkarp\n",
            "  Building wheel for python-terrier (setup.py) ... \u001b[?25l\u001b[?25hdone\n",
            "  Created wheel for python-terrier: filename=python_terrier-0.3.0.dev0-cp36-none-any.whl size=41247 sha256=91a5dd3b989ef5e99df568af8090f50c23c6ff6573fa45aa6d87f0e1dd3922ae\n",
            "  Stored in directory: /tmp/pip-ephem-wheel-cache-1vn7nrxa/wheels/cc/bb/69/836d846a92c787b35ca6478119c0033762ab2b95d866eeb288\n",
            "  Building wheel for wget (setup.py) ... \u001b[?25l\u001b[?25hdone\n",
            "  Created wheel for wget: filename=wget-3.2-cp36-none-any.whl size=9682 sha256=cf7cdbafc24d5a1365985b505accf6c26b7907cb5b64cc7a51f339d297af82da\n",
            "  Stored in directory: /root/.cache/pip/wheels/40/15/30/7d8f7cea2902b4db79e3fea550d7d7b85ecb27ef992b618f3f\n",
            "  Building wheel for pytrec-eval (setup.py) ... \u001b[?25l\u001b[?25hdone\n",
            "  Created wheel for pytrec-eval: filename=pytrec_eval-0.4-cp36-cp36m-linux_x86_64.whl size=273871 sha256=59c302ea477890b6e60d7da0c0f61404f292d38d1e0481aa0216ada8bcd2b2d0\n",
            "  Stored in directory: /root/.cache/pip/wheels/58/30/73/8858a1b6e5e2674e2ea85c9904949c06addcf6fd34d59b5ea6\n",
            "  Building wheel for chest (setup.py) ... \u001b[?25l\u001b[?25hdone\n",
            "  Created wheel for chest: filename=chest-0.2.3-cp36-none-any.whl size=7621 sha256=cc106b30c855eb28aac189f16656888d76130b03be2acc52bf6fe991b15445e5\n",
            "  Stored in directory: /root/.cache/pip/wheels/f9/52/97/3f0eb272609dc1b7a20fb678a45003301b51f03cf766f6237f\n",
            "  Building wheel for hopcroftkarp (setup.py) ... \u001b[?25l\u001b[?25hdone\n",
            "  Created wheel for hopcroftkarp: filename=hopcroftkarp-1.2.5-py2.py3-none-any.whl size=18092 sha256=f4676af765d333386f39758d706b12a61f4f7fe9a11b9974899ae97d55aa6c68\n",
            "  Stored in directory: /root/.cache/pip/wheels/2b/e1/c9/1993c7f7f114b7d3fb2d3e895e02157a7ebf554861e9e54e01\n",
            "Successfully built python-terrier wget pytrec-eval chest hopcroftkarp\n",
            "Installing collected packages: wget, pytrec-eval, pyjnius, multiset, hopcroftkarp, matchpy, deprecation, chest, python-terrier\n",
            "Successfully installed chest-0.2.3 deprecation-2.1.0 hopcroftkarp-1.2.5 matchpy-0.5.1 multiset-2.1.1 pyjnius-1.3.0 python-terrier-0.3.0.dev0 pytrec-eval-0.4 wget-3.2\n"
          ],
          "name": "stdout"
        }
      ]
    },
    {
      "cell_type": "code",
      "metadata": {
        "id": "nfGE0dJpbsMp",
        "colab_type": "code",
        "colab": {
          "base_uri": "https://localhost:8080/",
          "height": 85
        },
        "outputId": "b6f37aa5-07f8-4ca2-d7ad-9aaab5b2dc43"
      },
      "source": [
        "import pyterrier as pt\n",
        "if not pt.started():\n",
        "  pt.init()"
      ],
      "execution_count": null,
      "outputs": [
        {
          "output_type": "stream",
          "text": [
            "terrier-assemblies 5.3  jar-with-dependencies not found, downloading to /root/.pyterrier...\n",
            "Done\n",
            "terrier-python-helper 0.0.4  jar not found, downloading to /root/.pyterrier...\n",
            "Done\n"
          ],
          "name": "stdout"
        }
      ]
    },
    {
      "cell_type": "markdown",
      "metadata": {
        "id": "fyryiM46fJDx",
        "colab_type": "text"
      },
      "source": [
        "Get TREC docs"
      ]
    },
    {
      "cell_type": "code",
      "metadata": {
        "id": "2Pn1FArfcXPC",
        "colab_type": "code",
        "colab": {}
      },
      "source": [
        "# dataset = pt.datasets.get_dataset(\"vaswani\")\n",
        "\n",
        "# print(\"Files in vaswani corpus: %s \" % dataset.get_corpus())"
      ],
      "execution_count": null,
      "outputs": []
    },
    {
      "cell_type": "code",
      "metadata": {
        "id": "v-miNOTzfO0F",
        "colab_type": "code",
        "colab": {}
      },
      "source": [
        "index_path = \"./index\"\n",
        "!rm -rf ./index\n",
        "indexer = pt.TRECCollectionIndexer(index_path)"
      ],
      "execution_count": null,
      "outputs": []
    },
    {
      "cell_type": "code",
      "metadata": {
        "id": "Fd3k6pT8f9PX",
        "colab_type": "code",
        "colab": {}
      },
      "source": [
        "index_properies = {\"block.indexing\":\"true\", \"invertedfile.lexiconscanner\":\"pointers\", \"FieldTags.process\":\"TITLE,PAPERABSTRACT,ELSE\", \"indexer.meta.forward.keys\":\"docno,title,paperabstract\", \"indexer.meta.forward.keylens\":\"42,200,1024\"}\n",
        "indexer.setProperties(**index_properies)\n",
        "\n",
        "# indexref = indexer.index(dataset.get_corpus())\n"
      ],
      "execution_count": null,
      "outputs": []
    },
    {
      "cell_type": "code",
      "metadata": {
        "id": "-mod62nQGl3Y",
        "colab_type": "code",
        "colab": {}
      },
      "source": [
        "indexref = indexer.index(\"/content/drive/My Drive/Project/trecdocs-file.trec\")"
      ],
      "execution_count": null,
      "outputs": []
    },
    {
      "cell_type": "code",
      "metadata": {
        "id": "qXdApCx1H91r",
        "colab_type": "code",
        "colab": {
          "base_uri": "https://localhost:8080/",
          "height": 136
        },
        "outputId": "01007a05-a3cc-4baa-d170-02483c451d34"
      },
      "source": [
        "index = pt.IndexFactory.of(indexref)\n",
        "print(index.getCollectionStatistics().toString())"
      ],
      "execution_count": null,
      "outputs": [
        {
          "output_type": "stream",
          "text": [
            "Number of documents: 8879\n",
            "Number of terms: 90495\n",
            "Number of fields: 3\n",
            "Number of tokens: 1435512\n",
            "Field names: [TITLE, PAPERABSTRACT, ELSE]\n",
            "Positions:   false\n",
            "\n"
          ],
          "name": "stdout"
        }
      ]
    },
    {
      "cell_type": "markdown",
      "metadata": {
        "id": "QxcoMYWkgTj8",
        "colab_type": "text"
      },
      "source": [
        "#2. Retrieve"
      ]
    },
    {
      "cell_type": "code",
      "metadata": {
        "id": "fIfkARHygSYH",
        "colab_type": "code",
        "colab": {
          "base_uri": "https://localhost:8080/",
          "height": 439
        },
        "outputId": "9f9cd3fc-4263-4f21-ace1-8023518f1961"
      },
      "source": [
        "pt.BatchRetrieve(indexref,controls={\"wmodel\":\"DPH\"}).transform(\"cloud\")"
      ],
      "execution_count": null,
      "outputs": [
        {
          "output_type": "execute_result",
          "data": {
            "text/html": [
              "<div>\n",
              "<style scoped>\n",
              "    .dataframe tbody tr th:only-of-type {\n",
              "        vertical-align: middle;\n",
              "    }\n",
              "\n",
              "    .dataframe tbody tr th {\n",
              "        vertical-align: top;\n",
              "    }\n",
              "\n",
              "    .dataframe thead th {\n",
              "        text-align: right;\n",
              "    }\n",
              "</style>\n",
              "<table border=\"1\" class=\"dataframe\">\n",
              "  <thead>\n",
              "    <tr style=\"text-align: right;\">\n",
              "      <th></th>\n",
              "      <th>qid</th>\n",
              "      <th>docid</th>\n",
              "      <th>docno</th>\n",
              "      <th>rank</th>\n",
              "      <th>score</th>\n",
              "      <th>query</th>\n",
              "    </tr>\n",
              "  </thead>\n",
              "  <tbody>\n",
              "    <tr>\n",
              "      <th>0</th>\n",
              "      <td>1</td>\n",
              "      <td>3854</td>\n",
              "      <td>6784d4cb2da46e7661d21f4388830a231f2781f4</td>\n",
              "      <td>0</td>\n",
              "      <td>6.105648</td>\n",
              "      <td>cloud</td>\n",
              "    </tr>\n",
              "    <tr>\n",
              "      <th>1</th>\n",
              "      <td>1</td>\n",
              "      <td>7507</td>\n",
              "      <td>b2fdee22aa02477292b858fbafcb418932732bce</td>\n",
              "      <td>1</td>\n",
              "      <td>6.096576</td>\n",
              "      <td>cloud</td>\n",
              "    </tr>\n",
              "    <tr>\n",
              "      <th>2</th>\n",
              "      <td>1</td>\n",
              "      <td>8095</td>\n",
              "      <td>78da12073562af63b2f0e5f22f2503583e485702</td>\n",
              "      <td>2</td>\n",
              "      <td>6.072798</td>\n",
              "      <td>cloud</td>\n",
              "    </tr>\n",
              "    <tr>\n",
              "      <th>3</th>\n",
              "      <td>1</td>\n",
              "      <td>1725</td>\n",
              "      <td>8fc928bb430d3f72ac876ca156042ad1860acacd</td>\n",
              "      <td>3</td>\n",
              "      <td>6.045313</td>\n",
              "      <td>cloud</td>\n",
              "    </tr>\n",
              "    <tr>\n",
              "      <th>4</th>\n",
              "      <td>1</td>\n",
              "      <td>4039</td>\n",
              "      <td>4da704492963958f3242ce4553786195d427c41f</td>\n",
              "      <td>4</td>\n",
              "      <td>5.978381</td>\n",
              "      <td>cloud</td>\n",
              "    </tr>\n",
              "    <tr>\n",
              "      <th>...</th>\n",
              "      <td>...</td>\n",
              "      <td>...</td>\n",
              "      <td>...</td>\n",
              "      <td>...</td>\n",
              "      <td>...</td>\n",
              "      <td>...</td>\n",
              "    </tr>\n",
              "    <tr>\n",
              "      <th>140</th>\n",
              "      <td>1</td>\n",
              "      <td>2631</td>\n",
              "      <td>03c7355211f80f7e415fdeb544520776a3d4b0d1</td>\n",
              "      <td>140</td>\n",
              "      <td>2.155709</td>\n",
              "      <td>cloud</td>\n",
              "    </tr>\n",
              "    <tr>\n",
              "      <th>141</th>\n",
              "      <td>1</td>\n",
              "      <td>3124</td>\n",
              "      <td>2228b4208c5ea6754df6edcae805038f3e47857c</td>\n",
              "      <td>141</td>\n",
              "      <td>2.003419</td>\n",
              "      <td>cloud</td>\n",
              "    </tr>\n",
              "    <tr>\n",
              "      <th>142</th>\n",
              "      <td>1</td>\n",
              "      <td>8813</td>\n",
              "      <td>729d8359a90d5bb66fa9efcd0daf9e7434bfbe97</td>\n",
              "      <td>142</td>\n",
              "      <td>1.912169</td>\n",
              "      <td>cloud</td>\n",
              "    </tr>\n",
              "    <tr>\n",
              "      <th>143</th>\n",
              "      <td>1</td>\n",
              "      <td>1911</td>\n",
              "      <td>2e32718bd9174768782973c0c80f52d6a06b148c</td>\n",
              "      <td>143</td>\n",
              "      <td>1.498746</td>\n",
              "      <td>cloud</td>\n",
              "    </tr>\n",
              "    <tr>\n",
              "      <th>144</th>\n",
              "      <td>1</td>\n",
              "      <td>8236</td>\n",
              "      <td>faa46962da9cb705f36a2e9a69a80a970296d0cb</td>\n",
              "      <td>144</td>\n",
              "      <td>1.211319</td>\n",
              "      <td>cloud</td>\n",
              "    </tr>\n",
              "  </tbody>\n",
              "</table>\n",
              "<p>145 rows × 6 columns</p>\n",
              "</div>"
            ],
            "text/plain": [
              "    qid  docid                                     docno  rank     score  query\n",
              "0     1   3854  6784d4cb2da46e7661d21f4388830a231f2781f4     0  6.105648  cloud\n",
              "1     1   7507  b2fdee22aa02477292b858fbafcb418932732bce     1  6.096576  cloud\n",
              "2     1   8095  78da12073562af63b2f0e5f22f2503583e485702     2  6.072798  cloud\n",
              "3     1   1725  8fc928bb430d3f72ac876ca156042ad1860acacd     3  6.045313  cloud\n",
              "4     1   4039  4da704492963958f3242ce4553786195d427c41f     4  5.978381  cloud\n",
              "..   ..    ...                                       ...   ...       ...    ...\n",
              "140   1   2631  03c7355211f80f7e415fdeb544520776a3d4b0d1   140  2.155709  cloud\n",
              "141   1   3124  2228b4208c5ea6754df6edcae805038f3e47857c   141  2.003419  cloud\n",
              "142   1   8813  729d8359a90d5bb66fa9efcd0daf9e7434bfbe97   142  1.912169  cloud\n",
              "143   1   1911  2e32718bd9174768782973c0c80f52d6a06b148c   143  1.498746  cloud\n",
              "144   1   8236  faa46962da9cb705f36a2e9a69a80a970296d0cb   144  1.211319  cloud\n",
              "\n",
              "[145 rows x 6 columns]"
            ]
          },
          "metadata": {
            "tags": []
          },
          "execution_count": 8
        }
      ]
    },
    {
      "cell_type": "markdown",
      "metadata": {
        "id": "cIzPu6CdbP-h",
        "colab_type": "text"
      },
      "source": [
        "#3. Evaluation"
      ]
    },
    {
      "cell_type": "code",
      "metadata": {
        "id": "MBhP4cyjbPnz",
        "colab_type": "code",
        "colab": {}
      },
      "source": [
        "TF_IDF = pt.BatchRetrieve(indexref, controls = {\"wmodel\": \"TF_IDF\"})\n",
        "BM25 = pt.BatchRetrieve(indexref, controls = {\"wmodel\": \"BM25\"})\n",
        "PL2 = pt.BatchRetrieve(indexref, controls = {\"wmodel\": \"PL2\"})\n",
        "WeightingModel = pt.BatchRetrieve(indexref, controls = {\"wmodel\": \"WeightingModel\"})\n",
        "ML2 = pt.BatchRetrieve(indexref, controls = {\"wmodel\": \"ML2\"})\n"
      ],
      "execution_count": null,
      "outputs": []
    },
    {
      "cell_type": "code",
      "metadata": {
        "id": "GBWRcKSW_Kvk",
        "colab_type": "code",
        "colab": {
          "base_uri": "https://localhost:8080/",
          "height": 595
        },
        "outputId": "3cc0fa4a-759a-4537-d48f-837225ba1f55"
      },
      "source": [
        "import pytrec_eval\n",
        "pytrec_eval.supported_measures"
      ],
      "execution_count": null,
      "outputs": [
        {
          "output_type": "execute_result",
          "data": {
            "text/plain": [
              "{'11pt_avg',\n",
              " 'G',\n",
              " 'P',\n",
              " 'Rndcg',\n",
              " 'Rprec',\n",
              " 'Rprec_mult',\n",
              " 'binG',\n",
              " 'bpref',\n",
              " 'gm_bpref',\n",
              " 'gm_map',\n",
              " 'infAP',\n",
              " 'iprec_at_recall',\n",
              " 'map',\n",
              " 'map_cut',\n",
              " 'ndcg',\n",
              " 'ndcg_cut',\n",
              " 'ndcg_rel',\n",
              " 'num_nonrel_judged_ret',\n",
              " 'num_q',\n",
              " 'num_rel',\n",
              " 'num_rel_ret',\n",
              " 'num_ret',\n",
              " 'recall',\n",
              " 'recip_rank',\n",
              " 'relative_P',\n",
              " 'relstring',\n",
              " 'runid',\n",
              " 'set_F',\n",
              " 'set_P',\n",
              " 'set_map',\n",
              " 'set_recall',\n",
              " 'set_relative_P',\n",
              " 'success',\n",
              " 'utility'}"
            ]
          },
          "metadata": {
            "tags": []
          },
          "execution_count": 21
        }
      ]
    },
    {
      "cell_type": "code",
      "metadata": {
        "id": "rTITONWrh7hf",
        "colab_type": "code",
        "colab": {
          "base_uri": "https://localhost:8080/",
          "height": 173
        },
        "outputId": "be76a903-3695-488b-d2c5-20284bad8c91"
      },
      "source": [
        "eval = pt.pipelines.Experiment(\n",
        "    [TF_IDF,BM25,ML2,PL2],\n",
        "    \"/content/drive/My Drive/Project/topic\",\n",
        "    \"/content/drive/My Drive/Project/qrel\",\n",
        "    ['G','map','ndcg'])\n",
        "eval"
      ],
      "execution_count": null,
      "outputs": [
        {
          "output_type": "execute_result",
          "data": {
            "text/html": [
              "<div>\n",
              "<style scoped>\n",
              "    .dataframe tbody tr th:only-of-type {\n",
              "        vertical-align: middle;\n",
              "    }\n",
              "\n",
              "    .dataframe tbody tr th {\n",
              "        vertical-align: top;\n",
              "    }\n",
              "\n",
              "    .dataframe thead th {\n",
              "        text-align: right;\n",
              "    }\n",
              "</style>\n",
              "<table border=\"1\" class=\"dataframe\">\n",
              "  <thead>\n",
              "    <tr style=\"text-align: right;\">\n",
              "      <th></th>\n",
              "      <th>name</th>\n",
              "      <th>G</th>\n",
              "      <th>map</th>\n",
              "      <th>ndcg</th>\n",
              "    </tr>\n",
              "  </thead>\n",
              "  <tbody>\n",
              "    <tr>\n",
              "      <th>0</th>\n",
              "      <td>BR(TF_IDF)</td>\n",
              "      <td>0.393483</td>\n",
              "      <td>0.318778</td>\n",
              "      <td>0.529667</td>\n",
              "    </tr>\n",
              "    <tr>\n",
              "      <th>1</th>\n",
              "      <td>BR(BM25)</td>\n",
              "      <td>0.392165</td>\n",
              "      <td>0.317333</td>\n",
              "      <td>0.528754</td>\n",
              "    </tr>\n",
              "    <tr>\n",
              "      <th>2</th>\n",
              "      <td>BR(ML2)</td>\n",
              "      <td>0.386033</td>\n",
              "      <td>0.306567</td>\n",
              "      <td>0.519826</td>\n",
              "    </tr>\n",
              "    <tr>\n",
              "      <th>3</th>\n",
              "      <td>BR(PL2)</td>\n",
              "      <td>0.385581</td>\n",
              "      <td>0.308104</td>\n",
              "      <td>0.521119</td>\n",
              "    </tr>\n",
              "  </tbody>\n",
              "</table>\n",
              "</div>"
            ],
            "text/plain": [
              "         name         G       map      ndcg\n",
              "0  BR(TF_IDF)  0.393483  0.318778  0.529667\n",
              "1    BR(BM25)  0.392165  0.317333  0.528754\n",
              "2     BR(ML2)  0.386033  0.306567  0.519826\n",
              "3     BR(PL2)  0.385581  0.308104  0.521119"
            ]
          },
          "metadata": {
            "tags": []
          },
          "execution_count": 30
        }
      ]
    },
    {
      "cell_type": "markdown",
      "metadata": {
        "id": "wKWDH3EoLk4b",
        "colab_type": "text"
      },
      "source": [
        "Doesn't consider fairness. So each metric is very low."
      ]
    }
  ]
}